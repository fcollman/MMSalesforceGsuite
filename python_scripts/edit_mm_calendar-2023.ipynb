{
 "cells": [
  {
   "cell_type": "markdown",
   "metadata": {},
   "source": [
    "#### Notes\n",
    "\n",
    "Running the script below to create events for 2022-2023 academic calendar ([link](https://docs.google.com/spreadsheets/d/1a0ov5ctf7XA8DpAWxyScy99tJVCp90GKvwv_mmWbIHQ/edit#gid=1480204723))"
   ]
  },
  {
   "cell_type": "code",
   "execution_count": 1,
   "metadata": {},
   "outputs": [],
   "source": [
    "from __future__ import print_function\n",
    "import datetime\n",
    "from googleapiclient.discovery import build\n",
    "from google_auth_oauthlib.flow import InstalledAppFlow\n",
    "from google.auth.transport.requests import Request\n",
    "import numpy as np\n",
    "import os.path\n",
    "import pickle"
   ]
  },
  {
   "cell_type": "code",
   "execution_count": 2,
   "metadata": {},
   "outputs": [
    {
     "data": {
      "application/javascript": [
       "\n",
       "            setTimeout(function() {\n",
       "                var nbb_cell_id = 2;\n",
       "                var nbb_unformatted_code = \"%load_ext nb_black\";\n",
       "                var nbb_formatted_code = \"%load_ext nb_black\";\n",
       "                var nbb_cells = Jupyter.notebook.get_cells();\n",
       "                for (var i = 0; i < nbb_cells.length; ++i) {\n",
       "                    if (nbb_cells[i].input_prompt_number == nbb_cell_id) {\n",
       "                        if (nbb_cells[i].get_text() == nbb_unformatted_code) {\n",
       "                             nbb_cells[i].set_text(nbb_formatted_code);\n",
       "                        }\n",
       "                        break;\n",
       "                    }\n",
       "                }\n",
       "            }, 500);\n",
       "            "
      ],
      "text/plain": [
       "<IPython.core.display.Javascript object>"
      ]
     },
     "metadata": {},
     "output_type": "display_data"
    }
   ],
   "source": [
    "%load_ext nb_black"
   ]
  },
  {
   "cell_type": "code",
   "execution_count": 3,
   "metadata": {},
   "outputs": [
    {
     "name": "stdout",
     "output_type": "stream",
     "text": [
      "2023-08-02 20:48:33.857741\n"
     ]
    },
    {
     "data": {
      "application/javascript": [
       "\n",
       "            setTimeout(function() {\n",
       "                var nbb_cell_id = 3;\n",
       "                var nbb_unformatted_code = \"print(datetime.datetime.today())\";\n",
       "                var nbb_formatted_code = \"print(datetime.datetime.today())\";\n",
       "                var nbb_cells = Jupyter.notebook.get_cells();\n",
       "                for (var i = 0; i < nbb_cells.length; ++i) {\n",
       "                    if (nbb_cells[i].input_prompt_number == nbb_cell_id) {\n",
       "                        if (nbb_cells[i].get_text() == nbb_unformatted_code) {\n",
       "                             nbb_cells[i].set_text(nbb_formatted_code);\n",
       "                        }\n",
       "                        break;\n",
       "                    }\n",
       "                }\n",
       "            }, 500);\n",
       "            "
      ],
      "text/plain": [
       "<IPython.core.display.Javascript object>"
      ]
     },
     "metadata": {},
     "output_type": "display_data"
    }
   ],
   "source": [
    "print(datetime.datetime.today())"
   ]
  },
  {
   "cell_type": "code",
   "execution_count": 4,
   "metadata": {},
   "outputs": [
    {
     "data": {
      "application/javascript": [
       "\n",
       "            setTimeout(function() {\n",
       "                var nbb_cell_id = 4;\n",
       "                var nbb_unformatted_code = \"creds = None\\n# If modifying these scopes, delete the file token.pickle.\\nSCOPES = ['https://www.googleapis.com/auth/calendar',\\n          'https://www.googleapis.com/auth/spreadsheets.readonly'\\n]\";\n",
       "                var nbb_formatted_code = \"creds = None\\n# If modifying these scopes, delete the file token.pickle.\\nSCOPES = [\\n    \\\"https://www.googleapis.com/auth/calendar\\\",\\n    \\\"https://www.googleapis.com/auth/spreadsheets.readonly\\\",\\n]\";\n",
       "                var nbb_cells = Jupyter.notebook.get_cells();\n",
       "                for (var i = 0; i < nbb_cells.length; ++i) {\n",
       "                    if (nbb_cells[i].input_prompt_number == nbb_cell_id) {\n",
       "                        if (nbb_cells[i].get_text() == nbb_unformatted_code) {\n",
       "                             nbb_cells[i].set_text(nbb_formatted_code);\n",
       "                        }\n",
       "                        break;\n",
       "                    }\n",
       "                }\n",
       "            }, 500);\n",
       "            "
      ],
      "text/plain": [
       "<IPython.core.display.Javascript object>"
      ]
     },
     "metadata": {},
     "output_type": "display_data"
    }
   ],
   "source": [
    "creds = None\n",
    "# If modifying these scopes, delete the file token.pickle.\n",
    "SCOPES = ['https://www.googleapis.com/auth/calendar',\n",
    "          'https://www.googleapis.com/auth/spreadsheets.readonly'\n",
    "]"
   ]
  },
  {
   "cell_type": "code",
   "execution_count": 5,
   "metadata": {},
   "outputs": [
    {
     "name": "stdout",
     "output_type": "stream",
     "text": [
      "Please visit this URL to authorize this application: https://accounts.google.com/o/oauth2/auth?response_type=code&client_id=920945310291-dor04bbrppc1m1642g4bhrqr4734ev4s.apps.googleusercontent.com&redirect_uri=http%3A%2F%2Flocalhost%3A58234%2F&scope=https%3A%2F%2Fwww.googleapis.com%2Fauth%2Fcalendar+https%3A%2F%2Fwww.googleapis.com%2Fauth%2Fspreadsheets.readonly&state=2ElT4UCh0moPfvsQXphw9wlosQiGyc&access_type=offline\n"
     ]
    },
    {
     "data": {
      "application/javascript": [
       "\n",
       "            setTimeout(function() {\n",
       "                var nbb_cell_id = 5;\n",
       "                var nbb_unformatted_code = \"# If there are no (valid) credentials available, let the user log in.\\nif not creds or not creds.valid:\\n    if creds and creds.expired and creds.refresh_token:\\n        creds.refresh(Request())\\n    else:\\n        flow = InstalledAppFlow.from_client_secrets_file(\\n            'credentials.json', SCOPES)\\n        creds = flow.run_local_server(port=0)\\n    # Save the credentials for the next run\\n    with open('token.pickle', 'wb') as token:\\n        pickle.dump(creds, token)\";\n",
       "                var nbb_formatted_code = \"# If there are no (valid) credentials available, let the user log in.\\nif not creds or not creds.valid:\\n    if creds and creds.expired and creds.refresh_token:\\n        creds.refresh(Request())\\n    else:\\n        flow = InstalledAppFlow.from_client_secrets_file(\\\"credentials.json\\\", SCOPES)\\n        creds = flow.run_local_server(port=0)\\n    # Save the credentials for the next run\\n    with open(\\\"token.pickle\\\", \\\"wb\\\") as token:\\n        pickle.dump(creds, token)\";\n",
       "                var nbb_cells = Jupyter.notebook.get_cells();\n",
       "                for (var i = 0; i < nbb_cells.length; ++i) {\n",
       "                    if (nbb_cells[i].input_prompt_number == nbb_cell_id) {\n",
       "                        if (nbb_cells[i].get_text() == nbb_unformatted_code) {\n",
       "                             nbb_cells[i].set_text(nbb_formatted_code);\n",
       "                        }\n",
       "                        break;\n",
       "                    }\n",
       "                }\n",
       "            }, 500);\n",
       "            "
      ],
      "text/plain": [
       "<IPython.core.display.Javascript object>"
      ]
     },
     "metadata": {},
     "output_type": "display_data"
    }
   ],
   "source": [
    "# If there are no (valid) credentials available, let the user log in.\n",
    "if not creds or not creds.valid:\n",
    "    if creds and creds.expired and creds.refresh_token:\n",
    "        creds.refresh(Request())\n",
    "    else:\n",
    "        flow = InstalledAppFlow.from_client_secrets_file(\n",
    "            'credentials.json', SCOPES)\n",
    "        creds = flow.run_local_server(port=0)\n",
    "    # Save the credentials for the next run\n",
    "    with open('token.pickle', 'wb') as token:\n",
    "        pickle.dump(creds, token)"
   ]
  },
  {
   "cell_type": "code",
   "execution_count": 6,
   "metadata": {},
   "outputs": [
    {
     "name": "stdout",
     "output_type": "stream",
     "text": [
      "Reading token...\n"
     ]
    },
    {
     "data": {
      "application/javascript": [
       "\n",
       "            setTimeout(function() {\n",
       "                var nbb_cell_id = 6;\n",
       "                var nbb_unformatted_code = \"# If modifying these scopes, delete the file token.pickle.\\nSCOPES = ['https://www.googleapis.com/auth/calendar',\\n          'https://www.googleapis.com/auth/spreadsheets.readonly'\\n]\\n\\ncalendarID=\\\"c_822m07aktpjne3gfbr7cj8gjks@group.calendar.google.com\\\"\\n\\n\\\"\\\"\\\"Shows basic usage of the Google Calendar API.\\nPrints the start and name of the next 10 events on the user's calendar.\\n\\\"\\\"\\\"\\ncreds = None\\n# The file token.pickle stores the user's access and refresh tokens, and is\\n# created automatically when the authorization flow completes for the first\\n# time.\\n\\nif os.path.exists('token.pickle'):\\n    print(\\\"Reading token...\\\")\\n    with open('token.pickle', 'rb') as token:\\n        creds = pickle.load(token)\\n\\nservice = build('calendar', 'v3', credentials=creds)\";\n",
       "                var nbb_formatted_code = \"# If modifying these scopes, delete the file token.pickle.\\nSCOPES = [\\n    \\\"https://www.googleapis.com/auth/calendar\\\",\\n    \\\"https://www.googleapis.com/auth/spreadsheets.readonly\\\",\\n]\\n\\ncalendarID = \\\"c_822m07aktpjne3gfbr7cj8gjks@group.calendar.google.com\\\"\\n\\n\\\"\\\"\\\"Shows basic usage of the Google Calendar API.\\nPrints the start and name of the next 10 events on the user's calendar.\\n\\\"\\\"\\\"\\ncreds = None\\n# The file token.pickle stores the user's access and refresh tokens, and is\\n# created automatically when the authorization flow completes for the first\\n# time.\\n\\nif os.path.exists(\\\"token.pickle\\\"):\\n    print(\\\"Reading token...\\\")\\n    with open(\\\"token.pickle\\\", \\\"rb\\\") as token:\\n        creds = pickle.load(token)\\n\\nservice = build(\\\"calendar\\\", \\\"v3\\\", credentials=creds)\";\n",
       "                var nbb_cells = Jupyter.notebook.get_cells();\n",
       "                for (var i = 0; i < nbb_cells.length; ++i) {\n",
       "                    if (nbb_cells[i].input_prompt_number == nbb_cell_id) {\n",
       "                        if (nbb_cells[i].get_text() == nbb_unformatted_code) {\n",
       "                             nbb_cells[i].set_text(nbb_formatted_code);\n",
       "                        }\n",
       "                        break;\n",
       "                    }\n",
       "                }\n",
       "            }, 500);\n",
       "            "
      ],
      "text/plain": [
       "<IPython.core.display.Javascript object>"
      ]
     },
     "metadata": {},
     "output_type": "display_data"
    }
   ],
   "source": [
    "# If modifying these scopes, delete the file token.pickle.\n",
    "SCOPES = ['https://www.googleapis.com/auth/calendar',\n",
    "          'https://www.googleapis.com/auth/spreadsheets.readonly'\n",
    "]\n",
    "\n",
    "calendarID=\"c_822m07aktpjne3gfbr7cj8gjks@group.calendar.google.com\"\n",
    "\n",
    "\"\"\"Shows basic usage of the Google Calendar API.\n",
    "Prints the start and name of the next 10 events on the user's calendar.\n",
    "\"\"\"\n",
    "creds = None\n",
    "# The file token.pickle stores the user's access and refresh tokens, and is\n",
    "# created automatically when the authorization flow completes for the first\n",
    "# time.\n",
    "\n",
    "if os.path.exists('token.pickle'):\n",
    "    print(\"Reading token...\")\n",
    "    with open('token.pickle', 'rb') as token:\n",
    "        creds = pickle.load(token)\n",
    "\n",
    "service = build('calendar', 'v3', credentials=creds)"
   ]
  },
  {
   "cell_type": "code",
   "execution_count": 7,
   "metadata": {},
   "outputs": [
    {
     "data": {
      "application/javascript": [
       "\n",
       "            setTimeout(function() {\n",
       "                var nbb_cell_id = 7;\n",
       "                var nbb_unformatted_code = \"#service.events().list(calendarId=calendarID).execute()\";\n",
       "                var nbb_formatted_code = \"# service.events().list(calendarId=calendarID).execute()\";\n",
       "                var nbb_cells = Jupyter.notebook.get_cells();\n",
       "                for (var i = 0; i < nbb_cells.length; ++i) {\n",
       "                    if (nbb_cells[i].input_prompt_number == nbb_cell_id) {\n",
       "                        if (nbb_cells[i].get_text() == nbb_unformatted_code) {\n",
       "                             nbb_cells[i].set_text(nbb_formatted_code);\n",
       "                        }\n",
       "                        break;\n",
       "                    }\n",
       "                }\n",
       "            }, 500);\n",
       "            "
      ],
      "text/plain": [
       "<IPython.core.display.Javascript object>"
      ]
     },
     "metadata": {},
     "output_type": "display_data"
    }
   ],
   "source": [
    "#service.events().list(calendarId=calendarID).execute()"
   ]
  },
  {
   "cell_type": "code",
   "execution_count": 8,
   "metadata": {},
   "outputs": [
    {
     "data": {
      "application/javascript": [
       "\n",
       "            setTimeout(function() {\n",
       "                var nbb_cell_id = 8;\n",
       "                var nbb_unformatted_code = \"#creds\";\n",
       "                var nbb_formatted_code = \"# creds\";\n",
       "                var nbb_cells = Jupyter.notebook.get_cells();\n",
       "                for (var i = 0; i < nbb_cells.length; ++i) {\n",
       "                    if (nbb_cells[i].input_prompt_number == nbb_cell_id) {\n",
       "                        if (nbb_cells[i].get_text() == nbb_unformatted_code) {\n",
       "                             nbb_cells[i].set_text(nbb_formatted_code);\n",
       "                        }\n",
       "                        break;\n",
       "                    }\n",
       "                }\n",
       "            }, 500);\n",
       "            "
      ],
      "text/plain": [
       "<IPython.core.display.Javascript object>"
      ]
     },
     "metadata": {},
     "output_type": "display_data"
    }
   ],
   "source": [
    "#creds"
   ]
  },
  {
   "cell_type": "code",
   "execution_count": 9,
   "metadata": {},
   "outputs": [
    {
     "name": "stdout",
     "output_type": "stream",
     "text": [
      "Getting the upcoming 10 events\n",
      "2023-08-19T11:00:00-07:00 New Student Orientation\n"
     ]
    },
    {
     "data": {
      "application/javascript": [
       "\n",
       "            setTimeout(function() {\n",
       "                var nbb_cell_id = 9;\n",
       "                var nbb_unformatted_code = \"# Call the Calendar API\\nnow = datetime.datetime.utcnow().isoformat() + 'Z' # 'Z' indicates UTC time\\nprint('Getting the upcoming 10 events')\\nevents_result = service.events().list(calendarId=calendarID, timeMin=now,\\n                                    maxResults=10, singleEvents=True,\\n                                    orderBy='startTime').execute()\\nevents = events_result.get('items', [])\\n\\nif not events:\\n    print('No upcoming events found.')\\nfor event in events:\\n    start = event['start'].get('dateTime', event['start'].get('date'))\\n    print(start, event['summary'])\";\n",
       "                var nbb_formatted_code = \"# Call the Calendar API\\nnow = datetime.datetime.utcnow().isoformat() + \\\"Z\\\"  # 'Z' indicates UTC time\\nprint(\\\"Getting the upcoming 10 events\\\")\\nevents_result = (\\n    service.events()\\n    .list(\\n        calendarId=calendarID,\\n        timeMin=now,\\n        maxResults=10,\\n        singleEvents=True,\\n        orderBy=\\\"startTime\\\",\\n    )\\n    .execute()\\n)\\nevents = events_result.get(\\\"items\\\", [])\\n\\nif not events:\\n    print(\\\"No upcoming events found.\\\")\\nfor event in events:\\n    start = event[\\\"start\\\"].get(\\\"dateTime\\\", event[\\\"start\\\"].get(\\\"date\\\"))\\n    print(start, event[\\\"summary\\\"])\";\n",
       "                var nbb_cells = Jupyter.notebook.get_cells();\n",
       "                for (var i = 0; i < nbb_cells.length; ++i) {\n",
       "                    if (nbb_cells[i].input_prompt_number == nbb_cell_id) {\n",
       "                        if (nbb_cells[i].get_text() == nbb_unformatted_code) {\n",
       "                             nbb_cells[i].set_text(nbb_formatted_code);\n",
       "                        }\n",
       "                        break;\n",
       "                    }\n",
       "                }\n",
       "            }, 500);\n",
       "            "
      ],
      "text/plain": [
       "<IPython.core.display.Javascript object>"
      ]
     },
     "metadata": {},
     "output_type": "display_data"
    }
   ],
   "source": [
    "# Call the Calendar API\n",
    "now = datetime.datetime.utcnow().isoformat() + 'Z' # 'Z' indicates UTC time\n",
    "print('Getting the upcoming 10 events')\n",
    "events_result = service.events().list(calendarId=calendarID, timeMin=now,\n",
    "                                    maxResults=10, singleEvents=True,\n",
    "                                    orderBy='startTime').execute()\n",
    "events = events_result.get('items', [])\n",
    "\n",
    "if not events:\n",
    "    print('No upcoming events found.')\n",
    "for event in events:\n",
    "    start = event['start'].get('dateTime', event['start'].get('date'))\n",
    "    print(start, event['summary'])\n"
   ]
  },
  {
   "cell_type": "markdown",
   "metadata": {},
   "source": [
    "### Pull data from Google sheet"
   ]
  },
  {
   "cell_type": "code",
   "execution_count": 10,
   "metadata": {},
   "outputs": [
    {
     "data": {
      "application/javascript": [
       "\n",
       "            setTimeout(function() {\n",
       "                var nbb_cell_id = 10;\n",
       "                var nbb_unformatted_code = \"# obtained from google sheet url:\\n# https://docs.google.com/spreadsheets/d/1jy2kZF4rHHUcGEzYcZfA6kukUdqaSj7FWzKIoyoapcM/edit#gid=0\\nSPREADSHEET_ID = \\\"1jy2kZF4rHHUcGEzYcZfA6kukUdqaSj7FWzKIoyoapcM\\\"\";\n",
       "                var nbb_formatted_code = \"# obtained from google sheet url:\\n# https://docs.google.com/spreadsheets/d/1jy2kZF4rHHUcGEzYcZfA6kukUdqaSj7FWzKIoyoapcM/edit#gid=0\\nSPREADSHEET_ID = \\\"1jy2kZF4rHHUcGEzYcZfA6kukUdqaSj7FWzKIoyoapcM\\\"\";\n",
       "                var nbb_cells = Jupyter.notebook.get_cells();\n",
       "                for (var i = 0; i < nbb_cells.length; ++i) {\n",
       "                    if (nbb_cells[i].input_prompt_number == nbb_cell_id) {\n",
       "                        if (nbb_cells[i].get_text() == nbb_unformatted_code) {\n",
       "                             nbb_cells[i].set_text(nbb_formatted_code);\n",
       "                        }\n",
       "                        break;\n",
       "                    }\n",
       "                }\n",
       "            }, 500);\n",
       "            "
      ],
      "text/plain": [
       "<IPython.core.display.Javascript object>"
      ]
     },
     "metadata": {},
     "output_type": "display_data"
    }
   ],
   "source": [
    "# obtained from google sheet url:\n",
    "# https://docs.google.com/spreadsheets/d/1jy2kZF4rHHUcGEzYcZfA6kukUdqaSj7FWzKIoyoapcM/edit#gid=0\n",
    "SPREADSHEET_ID = \"1jy2kZF4rHHUcGEzYcZfA6kukUdqaSj7FWzKIoyoapcM\""
   ]
  },
  {
   "cell_type": "code",
   "execution_count": 11,
   "metadata": {},
   "outputs": [
    {
     "name": "stdout",
     "output_type": "stream",
     "text": [
      "COMPLETE: Data copied\n"
     ]
    },
    {
     "data": {
      "application/javascript": [
       "\n",
       "            setTimeout(function() {\n",
       "                var nbb_cell_id = 11;\n",
       "                var nbb_unformatted_code = \"from googleapiclient.discovery import build\\ndef pull_sheet_data(SPREADSHEET_ID, RANGE_NAME):\\n    \\n    service = build('sheets', 'v4', credentials=creds)\\n    sheet = service.spreadsheets()\\n    result = sheet.values().get(\\n        spreadsheetId=SPREADSHEET_ID,\\n        range=RANGE_NAME).execute()\\n    values = result.get('values', [])\\n    \\n    if not values:\\n        print('No data found.')\\n    else:\\n        rows = sheet.values().get(spreadsheetId=SPREADSHEET_ID,\\n                                  range=RANGE_NAME).execute()\\n        data = rows.get('values')\\n        print(\\\"COMPLETE: Data copied\\\")\\n        return data\\ndata = pull_sheet_data(SPREADSHEET_ID , 'Computer_Readable!A1:G')\";\n",
       "                var nbb_formatted_code = \"from googleapiclient.discovery import build\\n\\n\\ndef pull_sheet_data(SPREADSHEET_ID, RANGE_NAME):\\n\\n    service = build(\\\"sheets\\\", \\\"v4\\\", credentials=creds)\\n    sheet = service.spreadsheets()\\n    result = (\\n        sheet.values().get(spreadsheetId=SPREADSHEET_ID, range=RANGE_NAME).execute()\\n    )\\n    values = result.get(\\\"values\\\", [])\\n\\n    if not values:\\n        print(\\\"No data found.\\\")\\n    else:\\n        rows = (\\n            sheet.values().get(spreadsheetId=SPREADSHEET_ID, range=RANGE_NAME).execute()\\n        )\\n        data = rows.get(\\\"values\\\")\\n        print(\\\"COMPLETE: Data copied\\\")\\n        return data\\n\\n\\ndata = pull_sheet_data(SPREADSHEET_ID, \\\"Computer_Readable!A1:G\\\")\";\n",
       "                var nbb_cells = Jupyter.notebook.get_cells();\n",
       "                for (var i = 0; i < nbb_cells.length; ++i) {\n",
       "                    if (nbb_cells[i].input_prompt_number == nbb_cell_id) {\n",
       "                        if (nbb_cells[i].get_text() == nbb_unformatted_code) {\n",
       "                             nbb_cells[i].set_text(nbb_formatted_code);\n",
       "                        }\n",
       "                        break;\n",
       "                    }\n",
       "                }\n",
       "            }, 500);\n",
       "            "
      ],
      "text/plain": [
       "<IPython.core.display.Javascript object>"
      ]
     },
     "metadata": {},
     "output_type": "display_data"
    }
   ],
   "source": [
    "from googleapiclient.discovery import build\n",
    "def pull_sheet_data(SPREADSHEET_ID, RANGE_NAME):\n",
    "    \n",
    "    service = build('sheets', 'v4', credentials=creds)\n",
    "    sheet = service.spreadsheets()\n",
    "    result = sheet.values().get(\n",
    "        spreadsheetId=SPREADSHEET_ID,\n",
    "        range=RANGE_NAME).execute()\n",
    "    values = result.get('values', [])\n",
    "    \n",
    "    if not values:\n",
    "        print('No data found.')\n",
    "    else:\n",
    "        rows = sheet.values().get(spreadsheetId=SPREADSHEET_ID,\n",
    "                                  range=RANGE_NAME).execute()\n",
    "        data = rows.get('values')\n",
    "        print(\"COMPLETE: Data copied\")\n",
    "        return data\n",
    "data = pull_sheet_data(SPREADSHEET_ID , 'Computer_Readable!A1:G')"
   ]
  },
  {
   "cell_type": "code",
   "execution_count": 12,
   "metadata": {},
   "outputs": [
    {
     "name": "stdout",
     "output_type": "stream",
     "text": [
      "196\n"
     ]
    },
    {
     "data": {
      "text/plain": [
       "['08/19/2023',\n",
       " '11 am - 1 pm',\n",
       " 'new students',\n",
       " 'students2026',\n",
       " 'New Student Orientation',\n",
       " '1']"
      ]
     },
     "execution_count": 12,
     "metadata": {},
     "output_type": "execute_result"
    },
    {
     "data": {
      "application/javascript": [
       "\n",
       "            setTimeout(function() {\n",
       "                var nbb_cell_id = 12;\n",
       "                var nbb_unformatted_code = \"# sanity check \\nprint(len(data))\\ndata[1]\";\n",
       "                var nbb_formatted_code = \"# sanity check\\nprint(len(data))\\ndata[1]\";\n",
       "                var nbb_cells = Jupyter.notebook.get_cells();\n",
       "                for (var i = 0; i < nbb_cells.length; ++i) {\n",
       "                    if (nbb_cells[i].input_prompt_number == nbb_cell_id) {\n",
       "                        if (nbb_cells[i].get_text() == nbb_unformatted_code) {\n",
       "                             nbb_cells[i].set_text(nbb_formatted_code);\n",
       "                        }\n",
       "                        break;\n",
       "                    }\n",
       "                }\n",
       "            }, 500);\n",
       "            "
      ],
      "text/plain": [
       "<IPython.core.display.Javascript object>"
      ]
     },
     "metadata": {},
     "output_type": "display_data"
    }
   ],
   "source": [
    "# sanity check \n",
    "print(len(data))\n",
    "data[1]"
   ]
  },
  {
   "cell_type": "code",
   "execution_count": 14,
   "metadata": {},
   "outputs": [
    {
     "name": "stdout",
     "output_type": "stream",
     "text": [
      "(195, 8)\n"
     ]
    },
    {
     "data": {
      "text/html": [
       "<div>\n",
       "<style scoped>\n",
       "    .dataframe tbody tr th:only-of-type {\n",
       "        vertical-align: middle;\n",
       "    }\n",
       "\n",
       "    .dataframe tbody tr th {\n",
       "        vertical-align: top;\n",
       "    }\n",
       "\n",
       "    .dataframe thead th {\n",
       "        text-align: right;\n",
       "    }\n",
       "</style>\n",
       "<table border=\"1\" class=\"dataframe\">\n",
       "  <thead>\n",
       "    <tr style=\"text-align: right;\">\n",
       "      <th></th>\n",
       "      <th>Date</th>\n",
       "      <th>Time</th>\n",
       "      <th>Calendar Assignment</th>\n",
       "      <th>Share with group</th>\n",
       "      <th>Event Title</th>\n",
       "      <th>Color</th>\n",
       "      <th>start</th>\n",
       "      <th>end</th>\n",
       "    </tr>\n",
       "  </thead>\n",
       "  <tbody>\n",
       "    <tr>\n",
       "      <th>0</th>\n",
       "      <td>08/19/2023</td>\n",
       "      <td>11 am - 1 pm</td>\n",
       "      <td>new students</td>\n",
       "      <td>students2026</td>\n",
       "      <td>New Student Orientation</td>\n",
       "      <td>1</td>\n",
       "      <td>11 am</td>\n",
       "      <td>1 pm</td>\n",
       "    </tr>\n",
       "    <tr>\n",
       "      <th>1</th>\n",
       "      <td>08/26/2023</td>\n",
       "      <td>1 pm - 3:30 pm</td>\n",
       "      <td>volunteers</td>\n",
       "      <td>volunteers</td>\n",
       "      <td>Volunteer Orientation</td>\n",
       "      <td>1</td>\n",
       "      <td>1 pm</td>\n",
       "      <td>3:30 pm</td>\n",
       "    </tr>\n",
       "  </tbody>\n",
       "</table>\n",
       "</div>"
      ],
      "text/plain": [
       "         Date            Time Calendar Assignment Share with group  \\\n",
       "0  08/19/2023    11 am - 1 pm        new students     students2026   \n",
       "1  08/26/2023  1 pm - 3:30 pm          volunteers       volunteers   \n",
       "\n",
       "               Event Title Color  start      end  \n",
       "0  New Student Orientation     1  11 am     1 pm  \n",
       "1    Volunteer Orientation     1   1 pm  3:30 pm  "
      ]
     },
     "execution_count": 14,
     "metadata": {},
     "output_type": "execute_result"
    },
    {
     "data": {
      "application/javascript": [
       "\n",
       "            setTimeout(function() {\n",
       "                var nbb_cell_id = 14;\n",
       "                var nbb_unformatted_code = \"import pandas as pd\\ndf = pd.DataFrame(data[1:], columns=data[0])\\ndf['start']=df.Time.str.split(' - ').map(lambda x: x[0])\\ndf['end']=df.Time.str.split(' - ').map(lambda x: x[1])\\n\\nprint(df.shape)\\ndf.head(2)\";\n",
       "                var nbb_formatted_code = \"import pandas as pd\\n\\ndf = pd.DataFrame(data[1:], columns=data[0])\\ndf[\\\"start\\\"] = df.Time.str.split(\\\" - \\\").map(lambda x: x[0])\\ndf[\\\"end\\\"] = df.Time.str.split(\\\" - \\\").map(lambda x: x[1])\\n\\nprint(df.shape)\\ndf.head(2)\";\n",
       "                var nbb_cells = Jupyter.notebook.get_cells();\n",
       "                for (var i = 0; i < nbb_cells.length; ++i) {\n",
       "                    if (nbb_cells[i].input_prompt_number == nbb_cell_id) {\n",
       "                        if (nbb_cells[i].get_text() == nbb_unformatted_code) {\n",
       "                             nbb_cells[i].set_text(nbb_formatted_code);\n",
       "                        }\n",
       "                        break;\n",
       "                    }\n",
       "                }\n",
       "            }, 500);\n",
       "            "
      ],
      "text/plain": [
       "<IPython.core.display.Javascript object>"
      ]
     },
     "metadata": {},
     "output_type": "display_data"
    }
   ],
   "source": [
    "import pandas as pd\n",
    "df = pd.DataFrame(data[1:], columns=data[0])\n",
    "df['start']=df.Time.str.split(' - ').map(lambda x: x[0])\n",
    "df['end']=df.Time.str.split(' - ').map(lambda x: x[1])\n",
    "\n",
    "print(df.shape)\n",
    "df.head(2)"
   ]
  },
  {
   "cell_type": "code",
   "execution_count": 15,
   "metadata": {},
   "outputs": [
    {
     "data": {
      "application/javascript": [
       "\n",
       "            setTimeout(function() {\n",
       "                var nbb_cell_id = 15;\n",
       "                var nbb_unformatted_code = \"if \\\"calendarEventID\\\" in df.columns:\\n    df[\\\"calendarEventID\\\"] = df[\\\"calendarEventID\\\"].replace(\\\" \\\", None)\\nelse:\\n    df[\\\"calendarEventID\\\"] = None\";\n",
       "                var nbb_formatted_code = \"if \\\"calendarEventID\\\" in df.columns:\\n    df[\\\"calendarEventID\\\"] = df[\\\"calendarEventID\\\"].replace(\\\" \\\", None)\\nelse:\\n    df[\\\"calendarEventID\\\"] = None\";\n",
       "                var nbb_cells = Jupyter.notebook.get_cells();\n",
       "                for (var i = 0; i < nbb_cells.length; ++i) {\n",
       "                    if (nbb_cells[i].input_prompt_number == nbb_cell_id) {\n",
       "                        if (nbb_cells[i].get_text() == nbb_unformatted_code) {\n",
       "                             nbb_cells[i].set_text(nbb_formatted_code);\n",
       "                        }\n",
       "                        break;\n",
       "                    }\n",
       "                }\n",
       "            }, 500);\n",
       "            "
      ],
      "text/plain": [
       "<IPython.core.display.Javascript object>"
      ]
     },
     "metadata": {},
     "output_type": "display_data"
    }
   ],
   "source": [
    "if \"calendarEventID\" in df.columns:\n",
    "    df[\"calendarEventID\"] = df[\"calendarEventID\"].replace(\" \", None)\n",
    "else:\n",
    "    df[\"calendarEventID\"] = None"
   ]
  },
  {
   "cell_type": "code",
   "execution_count": 16,
   "metadata": {},
   "outputs": [
    {
     "data": {
      "text/html": [
       "<div>\n",
       "<style scoped>\n",
       "    .dataframe tbody tr th:only-of-type {\n",
       "        vertical-align: middle;\n",
       "    }\n",
       "\n",
       "    .dataframe tbody tr th {\n",
       "        vertical-align: top;\n",
       "    }\n",
       "\n",
       "    .dataframe thead th {\n",
       "        text-align: right;\n",
       "    }\n",
       "</style>\n",
       "<table border=\"1\" class=\"dataframe\">\n",
       "  <thead>\n",
       "    <tr style=\"text-align: right;\">\n",
       "      <th></th>\n",
       "      <th>Date</th>\n",
       "      <th>Time</th>\n",
       "      <th>Calendar Assignment</th>\n",
       "      <th>Share with group</th>\n",
       "      <th>Event Title</th>\n",
       "      <th>Color</th>\n",
       "      <th>start</th>\n",
       "      <th>end</th>\n",
       "      <th>calendarEventID</th>\n",
       "    </tr>\n",
       "  </thead>\n",
       "  <tbody>\n",
       "    <tr>\n",
       "      <th>0</th>\n",
       "      <td>08/19/2023</td>\n",
       "      <td>11 am - 1 pm</td>\n",
       "      <td>new students</td>\n",
       "      <td>students2026</td>\n",
       "      <td>New Student Orientation</td>\n",
       "      <td>1</td>\n",
       "      <td>11 am</td>\n",
       "      <td>1 pm</td>\n",
       "      <td>None</td>\n",
       "    </tr>\n",
       "    <tr>\n",
       "      <th>1</th>\n",
       "      <td>08/26/2023</td>\n",
       "      <td>1 pm - 3:30 pm</td>\n",
       "      <td>volunteers</td>\n",
       "      <td>volunteers</td>\n",
       "      <td>Volunteer Orientation</td>\n",
       "      <td>1</td>\n",
       "      <td>1 pm</td>\n",
       "      <td>3:30 pm</td>\n",
       "      <td>None</td>\n",
       "    </tr>\n",
       "    <tr>\n",
       "      <th>2</th>\n",
       "      <td>09/09/2023</td>\n",
       "      <td>10 am - 2 pm</td>\n",
       "      <td>ec</td>\n",
       "      <td>ec</td>\n",
       "      <td>Kick-off</td>\n",
       "      <td>1</td>\n",
       "      <td>10 am</td>\n",
       "      <td>2 pm</td>\n",
       "      <td>None</td>\n",
       "    </tr>\n",
       "    <tr>\n",
       "      <th>3</th>\n",
       "      <td>09/09/2023</td>\n",
       "      <td>10 am - 2 pm</td>\n",
       "      <td>WCT</td>\n",
       "      <td>wct-instructors</td>\n",
       "      <td>Kick-off</td>\n",
       "      <td>1</td>\n",
       "      <td>10 am</td>\n",
       "      <td>2 pm</td>\n",
       "      <td>None</td>\n",
       "    </tr>\n",
       "    <tr>\n",
       "      <th>4</th>\n",
       "      <td>09/09/2023</td>\n",
       "      <td>10 am - 2 pm</td>\n",
       "      <td>Math Matters</td>\n",
       "      <td>math-instructors</td>\n",
       "      <td>Kick-off</td>\n",
       "      <td>1</td>\n",
       "      <td>10 am</td>\n",
       "      <td>2 pm</td>\n",
       "      <td>None</td>\n",
       "    </tr>\n",
       "  </tbody>\n",
       "</table>\n",
       "</div>"
      ],
      "text/plain": [
       "         Date            Time Calendar Assignment  Share with group  \\\n",
       "0  08/19/2023    11 am - 1 pm        new students      students2026   \n",
       "1  08/26/2023  1 pm - 3:30 pm          volunteers        volunteers   \n",
       "2  09/09/2023    10 am - 2 pm                  ec                ec   \n",
       "3  09/09/2023    10 am - 2 pm                 WCT   wct-instructors   \n",
       "4  09/09/2023    10 am - 2 pm        Math Matters  math-instructors   \n",
       "\n",
       "               Event Title Color  start      end calendarEventID  \n",
       "0  New Student Orientation     1  11 am     1 pm            None  \n",
       "1    Volunteer Orientation     1   1 pm  3:30 pm            None  \n",
       "2                 Kick-off     1  10 am     2 pm            None  \n",
       "3                 Kick-off     1  10 am     2 pm            None  \n",
       "4                 Kick-off     1  10 am     2 pm            None  "
      ]
     },
     "execution_count": 16,
     "metadata": {},
     "output_type": "execute_result"
    },
    {
     "data": {
      "application/javascript": [
       "\n",
       "            setTimeout(function() {\n",
       "                var nbb_cell_id = 16;\n",
       "                var nbb_unformatted_code = \"df.head()\";\n",
       "                var nbb_formatted_code = \"df.head()\";\n",
       "                var nbb_cells = Jupyter.notebook.get_cells();\n",
       "                for (var i = 0; i < nbb_cells.length; ++i) {\n",
       "                    if (nbb_cells[i].input_prompt_number == nbb_cell_id) {\n",
       "                        if (nbb_cells[i].get_text() == nbb_unformatted_code) {\n",
       "                             nbb_cells[i].set_text(nbb_formatted_code);\n",
       "                        }\n",
       "                        break;\n",
       "                    }\n",
       "                }\n",
       "            }, 500);\n",
       "            "
      ],
      "text/plain": [
       "<IPython.core.display.Javascript object>"
      ]
     },
     "metadata": {},
     "output_type": "display_data"
    }
   ],
   "source": [
    "df.head()"
   ]
  },
  {
   "cell_type": "code",
   "execution_count": 32,
   "metadata": {},
   "outputs": [
    {
     "data": {
      "application/javascript": [
       "\n",
       "            setTimeout(function() {\n",
       "                var nbb_cell_id = 32;\n",
       "                var nbb_unformatted_code = \"df.iloc[-1][\\\"Color\\\"] = 1\";\n",
       "                var nbb_formatted_code = \"df.iloc[-1][\\\"Color\\\"] = 1\";\n",
       "                var nbb_cells = Jupyter.notebook.get_cells();\n",
       "                for (var i = 0; i < nbb_cells.length; ++i) {\n",
       "                    if (nbb_cells[i].input_prompt_number == nbb_cell_id) {\n",
       "                        if (nbb_cells[i].get_text() == nbb_unformatted_code) {\n",
       "                             nbb_cells[i].set_text(nbb_formatted_code);\n",
       "                        }\n",
       "                        break;\n",
       "                    }\n",
       "                }\n",
       "            }, 500);\n",
       "            "
      ],
      "text/plain": [
       "<IPython.core.display.Javascript object>"
      ]
     },
     "metadata": {},
     "output_type": "display_data"
    }
   ],
   "source": [
    "df.iloc[-1][\"Color\"] = 1"
   ]
  },
  {
   "cell_type": "code",
   "execution_count": 17,
   "metadata": {},
   "outputs": [
    {
     "data": {
      "application/javascript": [
       "\n",
       "            setTimeout(function() {\n",
       "                var nbb_cell_id = 17;\n",
       "                var nbb_unformatted_code = \"eventservice=service.events()\";\n",
       "                var nbb_formatted_code = \"eventservice = service.events()\";\n",
       "                var nbb_cells = Jupyter.notebook.get_cells();\n",
       "                for (var i = 0; i < nbb_cells.length; ++i) {\n",
       "                    if (nbb_cells[i].input_prompt_number == nbb_cell_id) {\n",
       "                        if (nbb_cells[i].get_text() == nbb_unformatted_code) {\n",
       "                             nbb_cells[i].set_text(nbb_formatted_code);\n",
       "                        }\n",
       "                        break;\n",
       "                    }\n",
       "                }\n",
       "            }, 500);\n",
       "            "
      ],
      "text/plain": [
       "<IPython.core.display.Javascript object>"
      ]
     },
     "metadata": {},
     "output_type": "display_data"
    }
   ],
   "source": [
    "eventservice=service.events()"
   ]
  },
  {
   "cell_type": "code",
   "execution_count": 34,
   "metadata": {},
   "outputs": [
    {
     "data": {
      "application/javascript": [
       "\n",
       "            setTimeout(function() {\n",
       "                var nbb_cell_id = 34;\n",
       "                var nbb_unformatted_code = \"import time\\nfor k,row in df.iterrows():\\n    try:\\n        starttime=datetime.datetime.strptime(row.Date + \\\" \\\" + row.start.strip(), '%m/%d/%Y %I:%M %p')\\n    except ValueError:\\n        starttime=datetime.datetime.strptime(row.Date + \\\" \\\" + row.start.strip(), '%m/%d/%Y %I %p')\\n        \\n    try:\\n        endtime=datetime.datetime.strptime(row.Date + \\\" \\\" + row.end.strip(), '%m/%d/%Y %I:%M %p')\\n    except ValueError:\\n        endtime=datetime.datetime.strptime(row.Date + \\\" \\\" + row.end.strip(), '%m/%d/%Y %I %p')\\n    \\n    body={\\n        \\\"description\\\": row['Event Title'],\\n        \\\"summary\\\":  row['Event Title'],\\n        \\\"start\\\":{\\n            \\\"dateTime\\\": starttime.isoformat(),\\n            \\\"timeZone\\\": \\\"America/Los_Angeles\\\"\\n        },\\n        \\\"end\\\":{\\n            \\\"dateTime\\\": endtime.isoformat(),\\n            \\\"timeZone\\\": \\\"America/Los_Angeles\\\"\\n        },\\n        \\\"colorId\\\": f\\\"{row.Color}\\\",\\n        \\\"guestsCanInviteOthers\\\": False\\n\\n    }\\n    \\n    \\n    if row.calendarEventID:\\n        pass\\n    else:\\n        r=eventservice.insert(calendarId=calendarID,\\n                             body=body)\\n        response=r.execute()\\n        df.loc[k, 'calendarEventID']=response[\\\"id\\\"]\\n        time.sleep(.2)\";\n",
       "                var nbb_formatted_code = \"import time\\n\\nfor k, row in df.iterrows():\\n    try:\\n        starttime = datetime.datetime.strptime(\\n            row.Date + \\\" \\\" + row.start.strip(), \\\"%m/%d/%Y %I:%M %p\\\"\\n        )\\n    except ValueError:\\n        starttime = datetime.datetime.strptime(\\n            row.Date + \\\" \\\" + row.start.strip(), \\\"%m/%d/%Y %I %p\\\"\\n        )\\n\\n    try:\\n        endtime = datetime.datetime.strptime(\\n            row.Date + \\\" \\\" + row.end.strip(), \\\"%m/%d/%Y %I:%M %p\\\"\\n        )\\n    except ValueError:\\n        endtime = datetime.datetime.strptime(\\n            row.Date + \\\" \\\" + row.end.strip(), \\\"%m/%d/%Y %I %p\\\"\\n        )\\n\\n    body = {\\n        \\\"description\\\": row[\\\"Event Title\\\"],\\n        \\\"summary\\\": row[\\\"Event Title\\\"],\\n        \\\"start\\\": {\\\"dateTime\\\": starttime.isoformat(), \\\"timeZone\\\": \\\"America/Los_Angeles\\\"},\\n        \\\"end\\\": {\\\"dateTime\\\": endtime.isoformat(), \\\"timeZone\\\": \\\"America/Los_Angeles\\\"},\\n        \\\"colorId\\\": f\\\"{row.Color}\\\",\\n        \\\"guestsCanInviteOthers\\\": False,\\n    }\\n\\n    if row.calendarEventID:\\n        pass\\n    else:\\n        r = eventservice.insert(calendarId=calendarID, body=body)\\n        response = r.execute()\\n        df.loc[k, \\\"calendarEventID\\\"] = response[\\\"id\\\"]\\n        time.sleep(0.2)\";\n",
       "                var nbb_cells = Jupyter.notebook.get_cells();\n",
       "                for (var i = 0; i < nbb_cells.length; ++i) {\n",
       "                    if (nbb_cells[i].input_prompt_number == nbb_cell_id) {\n",
       "                        if (nbb_cells[i].get_text() == nbb_unformatted_code) {\n",
       "                             nbb_cells[i].set_text(nbb_formatted_code);\n",
       "                        }\n",
       "                        break;\n",
       "                    }\n",
       "                }\n",
       "            }, 500);\n",
       "            "
      ],
      "text/plain": [
       "<IPython.core.display.Javascript object>"
      ]
     },
     "metadata": {},
     "output_type": "display_data"
    }
   ],
   "source": [
    "import time\n",
    "for k,row in df.iterrows():\n",
    "    try:\n",
    "        starttime=datetime.datetime.strptime(row.Date + \" \" + row.start.strip(), '%m/%d/%Y %I:%M %p')\n",
    "    except ValueError:\n",
    "        starttime=datetime.datetime.strptime(row.Date + \" \" + row.start.strip(), '%m/%d/%Y %I %p')\n",
    "        \n",
    "    try:\n",
    "        endtime=datetime.datetime.strptime(row.Date + \" \" + row.end.strip(), '%m/%d/%Y %I:%M %p')\n",
    "    except ValueError:\n",
    "        endtime=datetime.datetime.strptime(row.Date + \" \" + row.end.strip(), '%m/%d/%Y %I %p')\n",
    "    \n",
    "    body={\n",
    "        \"description\": row['Event Title'],\n",
    "        \"summary\":  row['Event Title'],\n",
    "        \"start\":{\n",
    "            \"dateTime\": starttime.isoformat(),\n",
    "            \"timeZone\": \"America/Los_Angeles\"\n",
    "        },\n",
    "        \"end\":{\n",
    "            \"dateTime\": endtime.isoformat(),\n",
    "            \"timeZone\": \"America/Los_Angeles\"\n",
    "        },\n",
    "        \"colorId\": f\"{row.Color}\",\n",
    "        \"guestsCanInviteOthers\": False\n",
    "\n",
    "    }\n",
    "    \n",
    "    \n",
    "    if row.calendarEventID:\n",
    "        pass\n",
    "    else:\n",
    "        r=eventservice.insert(calendarId=calendarID,\n",
    "                             body=body)\n",
    "        response=r.execute()\n",
    "        df.loc[k, 'calendarEventID']=response[\"id\"]\n",
    "        time.sleep(.2)"
   ]
  },
  {
   "cell_type": "code",
   "execution_count": 35,
   "metadata": {},
   "outputs": [
    {
     "data": {
      "text/html": [
       "<div>\n",
       "<style scoped>\n",
       "    .dataframe tbody tr th:only-of-type {\n",
       "        vertical-align: middle;\n",
       "    }\n",
       "\n",
       "    .dataframe tbody tr th {\n",
       "        vertical-align: top;\n",
       "    }\n",
       "\n",
       "    .dataframe thead th {\n",
       "        text-align: right;\n",
       "    }\n",
       "</style>\n",
       "<table border=\"1\" class=\"dataframe\">\n",
       "  <thead>\n",
       "    <tr style=\"text-align: right;\">\n",
       "      <th></th>\n",
       "      <th>Date</th>\n",
       "      <th>Time</th>\n",
       "      <th>Calendar Assignment</th>\n",
       "      <th>Share with group</th>\n",
       "      <th>Event Title</th>\n",
       "      <th>Color</th>\n",
       "      <th>start</th>\n",
       "      <th>end</th>\n",
       "      <th>calendarEventID</th>\n",
       "    </tr>\n",
       "  </thead>\n",
       "  <tbody>\n",
       "    <tr>\n",
       "      <th>193</th>\n",
       "      <td>05/11/2024</td>\n",
       "      <td>10 am - 1 pm</td>\n",
       "      <td>ec</td>\n",
       "      <td>active</td>\n",
       "      <td>Graduation</td>\n",
       "      <td>1</td>\n",
       "      <td>10 am</td>\n",
       "      <td>1 pm</td>\n",
       "      <td>ka8t400qkver1hr62nd450j0uo</td>\n",
       "    </tr>\n",
       "    <tr>\n",
       "      <th>194</th>\n",
       "      <td>06/08/2024</td>\n",
       "      <td>11 am - 1 pm</td>\n",
       "      <td>ec</td>\n",
       "      <td>ec</td>\n",
       "      <td>EC EOY Retreat</td>\n",
       "      <td>1</td>\n",
       "      <td>11 am</td>\n",
       "      <td>1 pm</td>\n",
       "      <td>02s9cbargn8enaksrb9timbpi0</td>\n",
       "    </tr>\n",
       "  </tbody>\n",
       "</table>\n",
       "</div>"
      ],
      "text/plain": [
       "           Date           Time Calendar Assignment Share with group  \\\n",
       "193  05/11/2024   10 am - 1 pm                  ec           active   \n",
       "194  06/08/2024  11 am - 1 pm                   ec               ec   \n",
       "\n",
       "        Event Title Color  start    end             calendarEventID  \n",
       "193      Graduation     1  10 am   1 pm  ka8t400qkver1hr62nd450j0uo  \n",
       "194  EC EOY Retreat     1  11 am  1 pm   02s9cbargn8enaksrb9timbpi0  "
      ]
     },
     "execution_count": 35,
     "metadata": {},
     "output_type": "execute_result"
    },
    {
     "data": {
      "application/javascript": [
       "\n",
       "            setTimeout(function() {\n",
       "                var nbb_cell_id = 35;\n",
       "                var nbb_unformatted_code = \"df.tail(2)\";\n",
       "                var nbb_formatted_code = \"df.tail(2)\";\n",
       "                var nbb_cells = Jupyter.notebook.get_cells();\n",
       "                for (var i = 0; i < nbb_cells.length; ++i) {\n",
       "                    if (nbb_cells[i].input_prompt_number == nbb_cell_id) {\n",
       "                        if (nbb_cells[i].get_text() == nbb_unformatted_code) {\n",
       "                             nbb_cells[i].set_text(nbb_formatted_code);\n",
       "                        }\n",
       "                        break;\n",
       "                    }\n",
       "                }\n",
       "            }, 500);\n",
       "            "
      ],
      "text/plain": [
       "<IPython.core.display.Javascript object>"
      ]
     },
     "metadata": {},
     "output_type": "display_data"
    }
   ],
   "source": [
    "df.tail(2)"
   ]
  },
  {
   "cell_type": "code",
   "execution_count": null,
   "metadata": {},
   "outputs": [],
   "source": [
    "TEST = \"08/19/23 11 am\"\n",
    "starttime=datetime.datetime.strptime(TEST, '%m/%d/%y %I:%M %p')"
   ]
  },
  {
   "cell_type": "code",
   "execution_count": null,
   "metadata": {},
   "outputs": [],
   "source": [
    "TEST = \"8/26/2023 1 pm\"\n",
    "starttime=datetime.datetime.strptime(TEST, '%m/%d/%y %I %p')\n",
    "starttime"
   ]
  },
  {
   "cell_type": "code",
   "execution_count": 36,
   "metadata": {},
   "outputs": [
    {
     "data": {
      "text/html": [
       "<div>\n",
       "<style scoped>\n",
       "    .dataframe tbody tr th:only-of-type {\n",
       "        vertical-align: middle;\n",
       "    }\n",
       "\n",
       "    .dataframe tbody tr th {\n",
       "        vertical-align: top;\n",
       "    }\n",
       "\n",
       "    .dataframe thead th {\n",
       "        text-align: right;\n",
       "    }\n",
       "</style>\n",
       "<table border=\"1\" class=\"dataframe\">\n",
       "  <thead>\n",
       "    <tr style=\"text-align: right;\">\n",
       "      <th></th>\n",
       "      <th>Date</th>\n",
       "      <th>Time</th>\n",
       "      <th>Calendar Assignment</th>\n",
       "      <th>Share with group</th>\n",
       "      <th>Event Title</th>\n",
       "      <th>Color</th>\n",
       "      <th>start</th>\n",
       "      <th>end</th>\n",
       "      <th>calendarEventID</th>\n",
       "    </tr>\n",
       "  </thead>\n",
       "  <tbody>\n",
       "    <tr>\n",
       "      <th>0</th>\n",
       "      <td>08/19/2023</td>\n",
       "      <td>11 am - 1 pm</td>\n",
       "      <td>new students</td>\n",
       "      <td>students2026</td>\n",
       "      <td>New Student Orientation</td>\n",
       "      <td>1</td>\n",
       "      <td>11 am</td>\n",
       "      <td>1 pm</td>\n",
       "      <td>p20kvodiu13fp9opogjctd5eds</td>\n",
       "    </tr>\n",
       "    <tr>\n",
       "      <th>1</th>\n",
       "      <td>08/26/2023</td>\n",
       "      <td>1 pm - 3:30 pm</td>\n",
       "      <td>volunteers</td>\n",
       "      <td>volunteers</td>\n",
       "      <td>Volunteer Orientation</td>\n",
       "      <td>1</td>\n",
       "      <td>1 pm</td>\n",
       "      <td>3:30 pm</td>\n",
       "      <td>qa5bogl8i12og8c52mjp890si8</td>\n",
       "    </tr>\n",
       "    <tr>\n",
       "      <th>2</th>\n",
       "      <td>09/09/2023</td>\n",
       "      <td>10 am - 2 pm</td>\n",
       "      <td>ec</td>\n",
       "      <td>ec</td>\n",
       "      <td>Kick-off</td>\n",
       "      <td>1</td>\n",
       "      <td>10 am</td>\n",
       "      <td>2 pm</td>\n",
       "      <td>b33uhacdr8glocr344f1egge3s</td>\n",
       "    </tr>\n",
       "    <tr>\n",
       "      <th>3</th>\n",
       "      <td>09/09/2023</td>\n",
       "      <td>10 am - 2 pm</td>\n",
       "      <td>WCT</td>\n",
       "      <td>wct-instructors</td>\n",
       "      <td>Kick-off</td>\n",
       "      <td>1</td>\n",
       "      <td>10 am</td>\n",
       "      <td>2 pm</td>\n",
       "      <td>f998sjl6ghr9muqj4fjrddqo54</td>\n",
       "    </tr>\n",
       "    <tr>\n",
       "      <th>4</th>\n",
       "      <td>09/09/2023</td>\n",
       "      <td>10 am - 2 pm</td>\n",
       "      <td>Math Matters</td>\n",
       "      <td>math-instructors</td>\n",
       "      <td>Kick-off</td>\n",
       "      <td>1</td>\n",
       "      <td>10 am</td>\n",
       "      <td>2 pm</td>\n",
       "      <td>ca6q7ju0qm13o28tntev47edao</td>\n",
       "    </tr>\n",
       "  </tbody>\n",
       "</table>\n",
       "</div>"
      ],
      "text/plain": [
       "         Date            Time Calendar Assignment  Share with group  \\\n",
       "0  08/19/2023    11 am - 1 pm        new students      students2026   \n",
       "1  08/26/2023  1 pm - 3:30 pm          volunteers        volunteers   \n",
       "2  09/09/2023    10 am - 2 pm                  ec                ec   \n",
       "3  09/09/2023    10 am - 2 pm                 WCT   wct-instructors   \n",
       "4  09/09/2023    10 am - 2 pm        Math Matters  math-instructors   \n",
       "\n",
       "               Event Title Color  start      end             calendarEventID  \n",
       "0  New Student Orientation     1  11 am     1 pm  p20kvodiu13fp9opogjctd5eds  \n",
       "1    Volunteer Orientation     1   1 pm  3:30 pm  qa5bogl8i12og8c52mjp890si8  \n",
       "2                 Kick-off     1  10 am     2 pm  b33uhacdr8glocr344f1egge3s  \n",
       "3                 Kick-off     1  10 am     2 pm  f998sjl6ghr9muqj4fjrddqo54  \n",
       "4                 Kick-off     1  10 am     2 pm  ca6q7ju0qm13o28tntev47edao  "
      ]
     },
     "execution_count": 36,
     "metadata": {},
     "output_type": "execute_result"
    },
    {
     "data": {
      "application/javascript": [
       "\n",
       "            setTimeout(function() {\n",
       "                var nbb_cell_id = 36;\n",
       "                var nbb_unformatted_code = \"df.head()\";\n",
       "                var nbb_formatted_code = \"df.head()\";\n",
       "                var nbb_cells = Jupyter.notebook.get_cells();\n",
       "                for (var i = 0; i < nbb_cells.length; ++i) {\n",
       "                    if (nbb_cells[i].input_prompt_number == nbb_cell_id) {\n",
       "                        if (nbb_cells[i].get_text() == nbb_unformatted_code) {\n",
       "                             nbb_cells[i].set_text(nbb_formatted_code);\n",
       "                        }\n",
       "                        break;\n",
       "                    }\n",
       "                }\n",
       "            }, 500);\n",
       "            "
      ],
      "text/plain": [
       "<IPython.core.display.Javascript object>"
      ]
     },
     "metadata": {},
     "output_type": "display_data"
    }
   ],
   "source": [
    "df.head()"
   ]
  },
  {
   "cell_type": "code",
   "execution_count": 37,
   "metadata": {},
   "outputs": [
    {
     "name": "stdout",
     "output_type": "stream",
     "text": [
      "inviting students2026 to New Student Orientation\n",
      "inviting volunteers to Volunteer Orientation\n",
      "inviting ec to Kick-off\n",
      "inviting wct-instructors to Kick-off\n",
      "inviting math-instructors to Kick-off\n",
      "inviting testprep-instructors to Kick-off\n",
      "inviting senior-enrichment-instructors to Kick-off\n",
      "inviting 2026mentors to Kick-off\n",
      "inviting students2026 to Kick-off\n",
      "inviting 2025mentors to Kick-off\n",
      "inviting students2025 to Kick-off\n",
      "inviting 2024mentors to Kick-off\n",
      "inviting students2024 to Kick-off\n",
      "inviting wct-instructors to Writing and Critical Thinking\n",
      "inviting students2026 to Writing and Critical Thinking\n",
      "inviting math-instructors to Math Matters\n",
      "inviting students2026 to Math Matters\n",
      "inviting testprep-instructors to Test Prep\n",
      "inviting students2025 to Test Prep\n",
      "inviting senior-enrichment-instructors to Senior Enrichment\n",
      "inviting students2024 to Senior Enrichment\n",
      "inviting 2026mentors to Sophomore Mentoring\n",
      "inviting students2026 to Sophomore Mentoring\n",
      "inviting 2025mentors to Junior Mentoring\n",
      "inviting students2025 to Junior Mentoring\n",
      "inviting 2024mentors to Senior Mentoring\n",
      "inviting students2024 to Senior Mentoring\n",
      "inviting ec to EC Meeting\n",
      "inviting wct-instructors to Writing and Critical Thinking\n",
      "inviting students2026 to Writing and Critical Thinking\n",
      "inviting math-instructors to Math Matters\n",
      "inviting students2026 to Math Matters\n",
      "inviting testprep-instructors to Test Prep\n",
      "inviting students2025 to Test Prep\n",
      "inviting senior-enrichment-instructors to Senior Enrichment\n",
      "inviting students2024 to Senior Enrichment\n",
      "inviting 2026mentors to Sophomore Mentoring\n",
      "inviting students2026 to Sophomore Mentoring\n",
      "inviting 2025mentors to Junior Mentoring\n",
      "inviting students2025 to Junior Mentoring\n",
      "inviting 2024mentors to Senior Mentoring\n",
      "inviting students2024 to Senior Mentoring\n",
      "inviting wct-instructors to Writing and Critical Thinking\n",
      "inviting students2026 to Writing and Critical Thinking\n",
      "inviting math-instructors to Math Matters\n",
      "inviting students2026 to Math Matters\n",
      "inviting testprep-instructors to Test Prep\n",
      "inviting students2025 to Test Prep\n",
      "inviting senior-enrichment-instructors to Senior Enrichment\n",
      "inviting students2024 to Senior Enrichment\n",
      "inviting 2026mentors to Sophomore Mentoring\n",
      "inviting students2026 to Sophomore Mentoring\n",
      "inviting 2025mentors to Junior Mentoring\n",
      "inviting students2025 to Junior Mentoring\n",
      "inviting 2024mentors to Senior Mentoring\n",
      "inviting students2024 to Senior Mentoring\n",
      "inviting wct-instructors to Writing and Critical Thinking\n",
      "inviting students2026 to Writing and Critical Thinking\n",
      "inviting math-instructors to Math Matters\n",
      "inviting students2026 to Math Matters\n",
      "inviting testprep-instructors to Test Prep\n",
      "inviting students2025 to Test Prep\n",
      "inviting senior-enrichment-instructors to Senior Enrichment\n",
      "inviting students2024 to Senior Enrichment\n",
      "inviting 2026mentors to Sophomore Mentoring\n",
      "inviting students2026 to Sophomore Mentoring\n",
      "inviting 2025mentors to Junior Mentoring\n",
      "inviting students2025 to Junior Mentoring\n",
      "inviting 2024mentors to Senior Mentoring\n",
      "inviting students2024 to Senior Mentoring\n",
      "inviting wct-instructors to Writing and Critical Thinking\n",
      "inviting students2026 to Writing and Critical Thinking\n",
      "inviting math-instructors to Math Matters\n",
      "inviting students2026 to Math Matters\n",
      "inviting testprep-instructors to Test Prep\n",
      "inviting students2025 to Test Prep\n",
      "inviting senior-enrichment-instructors to Senior Enrichment\n",
      "inviting students2024 to Senior Enrichment\n",
      "inviting 2026mentors to Sophomore Mentoring\n",
      "inviting students2026 to Sophomore Mentoring\n",
      "inviting 2025mentors to Junior Mentoring\n",
      "inviting students2025 to Junior Mentoring\n",
      "inviting 2024mentors to Senior Mentoring\n",
      "inviting students2024 to Senior Mentoring\n",
      "inviting ec to EC + Board Meeting\n",
      "inviting board to EC + Board Meeting\n",
      "inviting wct-instructors to Writing and Critical Thinking\n",
      "inviting students2026 to Writing and Critical Thinking\n",
      "inviting math-instructors to Math Matters\n",
      "inviting students2026 to Math Matters\n",
      "inviting testprep-instructors to Test Prep\n",
      "inviting students2025 to Test Prep\n",
      "inviting senior-enrichment-instructors to Senior Enrichment\n",
      "inviting students2024 to Senior Enrichment\n",
      "inviting 2026mentors to Sophomore Mentoring\n",
      "inviting students2026 to Sophomore Mentoring\n",
      "inviting 2025mentors to Junior Mentoring\n",
      "inviting students2025 to Junior Mentoring\n",
      "inviting 2024mentors to Senior Mentoring\n",
      "inviting students2024 to Senior Mentoring\n",
      "inviting wct-instructors to Writing and Critical Thinking\n",
      "inviting students2026 to Writing and Critical Thinking\n",
      "inviting math-instructors to Math Matters\n",
      "inviting students2026 to Math Matters\n",
      "inviting testprep-instructors to Test Prep\n",
      "inviting students2025 to Test Prep\n",
      "inviting senior-enrichment-instructors to Senior Enrichment\n",
      "inviting students2024 to Senior Enrichment\n",
      "inviting 2026mentors to Sophomore Mentoring\n",
      "inviting students2026 to Sophomore Mentoring\n",
      "inviting 2025mentors to Junior Mentoring\n",
      "inviting students2025 to Junior Mentoring\n",
      "inviting 2024mentors to Senior Mentoring\n",
      "inviting students2024 to Senior Mentoring\n",
      "inviting wct-instructors to Writing and Critical Thinking\n",
      "inviting students2026 to Writing and Critical Thinking\n",
      "inviting math-instructors to Math Matters\n",
      "inviting students2026 to Math Matters\n",
      "inviting testprep-instructors to Test Prep\n",
      "inviting students2025 to Test Prep\n",
      "inviting senior-enrichment-instructors to Senior Enrichment\n",
      "inviting students2024 to Senior Enrichment\n",
      "inviting 2026mentors to Sophomore Mentoring\n",
      "inviting students2026 to Sophomore Mentoring\n",
      "inviting 2025mentors to Junior Mentoring\n",
      "inviting students2025 to Junior Mentoring\n",
      "inviting 2024mentors to Senior Mentoring\n",
      "inviting students2024 to Senior Mentoring\n",
      "inviting ec to EC Meeting\n",
      "inviting wct-instructors to Writing and Critical Thinking\n",
      "inviting students2026 to Writing and Critical Thinking\n",
      "inviting math-instructors to Math Matters\n",
      "inviting students2026 to Math Matters\n",
      "inviting testprep-instructors to Test Prep\n",
      "inviting students2025 to Test Prep\n",
      "inviting senior-enrichment-instructors to Senior Enrichment\n",
      "inviting students2024 to Senior Enrichment\n",
      "inviting 2026mentors to Sophomore Mentoring\n",
      "inviting students2026 to Sophomore Mentoring\n",
      "inviting 2025mentors to Junior Mentoring\n",
      "inviting students2025 to Junior Mentoring\n",
      "inviting 2024mentors to Senior Mentoring\n",
      "inviting students2024 to Senior Mentoring\n",
      "inviting wct-instructors to Writing and Critical Thinking\n",
      "inviting students2026 to Writing and Critical Thinking\n",
      "inviting math-instructors to Math Matters\n",
      "inviting students2026 to Math Matters\n",
      "inviting testprep-instructors to Test Prep\n",
      "inviting students2025 to Test Prep\n",
      "inviting senior-enrichment-instructors to Senior Enrichment\n",
      "inviting students2024 to Senior Enrichment\n",
      "inviting 2026mentors to Sophomore Mentoring\n",
      "inviting students2026 to Sophomore Mentoring\n",
      "inviting 2025mentors to Junior Mentoring\n",
      "inviting students2025 to Junior Mentoring\n",
      "inviting 2024mentors to Senior Mentoring\n",
      "inviting students2024 to Senior Mentoring\n",
      "inviting active to Holiday Party\n",
      "inviting wct-instructors to Writing and Critical Thinking\n",
      "inviting students2026 to Writing and Critical Thinking\n",
      "inviting math-instructors to Math Matters\n",
      "inviting students2026 to Math Matters\n",
      "inviting testprep-instructors to Test Prep\n",
      "inviting students2025 to Test Prep\n",
      "inviting senior-enrichment-instructors to Senior Enrichment\n",
      "inviting students2024 to Senior Enrichment\n",
      "inviting 2026mentors to Sophomore Mentoring\n",
      "inviting students2026 to Sophomore Mentoring\n",
      "inviting 2025mentors to Junior Mentoring\n",
      "inviting students2025 to Junior Mentoring\n",
      "inviting 2024mentors to Senior Mentoring\n",
      "inviting students2024 to Senior Mentoring\n",
      "inviting wct-instructors to Writing and Critical Thinking\n",
      "inviting students2026 to Writing and Critical Thinking\n",
      "inviting math-instructors to Math Matters\n",
      "inviting students2026 to Math Matters\n",
      "inviting testprep-instructors to Test Prep\n",
      "inviting students2025 to Test Prep\n",
      "inviting senior-enrichment-instructors to Senior Enrichment\n",
      "inviting students2024 to Senior Enrichment\n",
      "inviting 2026mentors to Sophomore Mentoring\n",
      "inviting students2026 to Sophomore Mentoring\n",
      "inviting 2025mentors to Junior Mentoring\n",
      "inviting students2025 to Junior Mentoring\n",
      "inviting 2024mentors to Senior Mentoring\n",
      "inviting students2024 to Senior Mentoring\n",
      "inviting ec to EC Meeting\n",
      "inviting wct-instructors to Writing and Critical Thinking\n",
      "inviting students2026 to Writing and Critical Thinking\n",
      "inviting math-instructors to Math Matters\n",
      "inviting students2026 to Math Matters\n",
      "inviting testprep-instructors to Test Prep\n",
      "inviting students2025 to Test Prep\n",
      "inviting senior-enrichment-instructors to Senior Enrichment\n",
      "inviting students2024 to Senior Enrichment\n",
      "inviting 2026mentors to Sophomore Mentoring\n",
      "inviting students2026 to Sophomore Mentoring\n",
      "inviting 2025mentors to Junior Mentoring\n",
      "inviting students2025 to Junior Mentoring\n",
      "inviting 2024mentors to Senior Mentoring\n",
      "inviting students2024 to Senior Mentoring\n",
      "inviting wct-instructors to Writing and Critical Thinking\n",
      "inviting students2026 to Writing and Critical Thinking\n",
      "inviting math-instructors to Math Matters\n",
      "inviting students2026 to Math Matters\n",
      "inviting testprep-instructors to Test Prep\n",
      "inviting students2025 to Test Prep\n",
      "inviting senior-enrichment-instructors to Senior Enrichment\n",
      "inviting students2024 to Senior Enrichment\n",
      "inviting 2026mentors to Sophomore Mentoring\n",
      "inviting students2026 to Sophomore Mentoring\n",
      "inviting 2025mentors to Junior Mentoring\n",
      "inviting students2025 to Junior Mentoring\n",
      "inviting 2024mentors to Senior Mentoring\n",
      "inviting students2024 to Senior Mentoring\n",
      "inviting wct-instructors to Writing and Critical Thinking\n",
      "inviting students2026 to Writing and Critical Thinking\n",
      "inviting math-instructors to Math Matters\n",
      "inviting students2026 to Math Matters\n",
      "inviting testprep-instructors to Test Prep\n",
      "inviting students2025 to Test Prep\n",
      "inviting senior-enrichment-instructors to Senior Enrichment\n",
      "inviting students2024 to Senior Enrichment\n",
      "inviting 2026mentors to Sophomore Mentoring\n",
      "inviting students2026 to Sophomore Mentoring\n",
      "inviting 2025mentors to Junior Mentoring\n",
      "inviting students2025 to Junior Mentoring\n",
      "inviting 2024mentors to Senior Mentoring\n",
      "inviting students2024 to Senior Mentoring\n",
      "inviting wct-instructors to Writing and Critical Thinking\n",
      "inviting students2026 to Writing and Critical Thinking\n",
      "inviting math-instructors to Math Matters\n",
      "inviting students2026 to Math Matters\n",
      "inviting testprep-instructors to Test Prep\n",
      "inviting students2025 to Test Prep\n",
      "inviting senior-enrichment-instructors to Senior Enrichment\n",
      "inviting students2024 to Senior Enrichment\n",
      "inviting 2026mentors to Sophomore Mentoring\n",
      "inviting students2026 to Sophomore Mentoring\n",
      "inviting 2025mentors to Junior Mentoring\n",
      "inviting students2025 to Junior Mentoring\n",
      "inviting 2024mentors to Senior Mentoring\n",
      "inviting students2024 to Senior Mentoring\n",
      "inviting ec to EC Meeting\n",
      "inviting wct-instructors to Writing and Critical Thinking\n",
      "inviting students2026 to Writing and Critical Thinking\n",
      "inviting math-instructors to Math Matters\n",
      "inviting students2026 to Math Matters\n",
      "inviting testprep-instructors to Test Prep\n",
      "inviting students2025 to Test Prep\n",
      "inviting senior-enrichment-instructors to Senior Enrichment\n",
      "inviting students2024 to Senior Enrichment\n",
      "inviting 2026mentors to Sophomore Mentoring\n",
      "inviting students2026 to Sophomore Mentoring\n",
      "inviting 2025mentors to Junior Mentoring\n",
      "inviting students2025 to Junior Mentoring\n",
      "inviting 2024mentors to Senior Mentoring\n",
      "inviting students2024 to Senior Mentoring\n",
      "inviting wct-instructors to Writing and Critical Thinking\n",
      "inviting students2026 to Writing and Critical Thinking\n",
      "inviting math-instructors to Math Matters\n",
      "inviting students2026 to Math Matters\n",
      "inviting testprep-instructors to Test Prep\n",
      "inviting students2025 to Test Prep\n",
      "inviting senior-enrichment-instructors to Senior Enrichment\n",
      "inviting students2024 to Senior Enrichment\n",
      "inviting 2026mentors to Sophomore Mentoring\n",
      "inviting students2026 to Sophomore Mentoring\n",
      "inviting 2025mentors to Junior Mentoring\n",
      "inviting students2025 to Junior Mentoring\n",
      "inviting 2024mentors to Senior Mentoring\n",
      "inviting students2024 to Senior Mentoring\n",
      "inviting wct-instructors to Writing and Critical Thinking\n",
      "inviting students2026 to Writing and Critical Thinking\n",
      "inviting math-instructors to Math Matters\n",
      "inviting students2026 to Math Matters\n",
      "inviting testprep-instructors to Test Prep\n",
      "inviting students2025 to Test Prep\n",
      "inviting senior-enrichment-instructors to Senior Enrichment\n",
      "inviting students2024 to Senior Enrichment\n",
      "inviting 2026mentors to Sophomore Mentoring\n",
      "inviting students2026 to Sophomore Mentoring\n",
      "inviting 2025mentors to Junior Mentoring\n",
      "inviting students2025 to Junior Mentoring\n",
      "inviting 2024mentors to Senior Mentoring\n",
      "inviting students2024 to Senior Mentoring\n",
      "inviting wct-instructors to Writing and Critical Thinking\n",
      "inviting students2026 to Writing and Critical Thinking\n",
      "inviting math-instructors to Math Matters\n",
      "inviting students2026 to Math Matters\n",
      "inviting testprep-instructors to Test Prep\n",
      "inviting students2025 to Test Prep\n",
      "inviting senior-enrichment-instructors to Senior Enrichment\n",
      "inviting students2024 to Senior Enrichment\n",
      "inviting 2026mentors to Sophomore Mentoring\n",
      "inviting students2026 to Sophomore Mentoring\n",
      "inviting 2025mentors to Junior Mentoring\n",
      "inviting students2025 to Junior Mentoring\n",
      "inviting 2024mentors to Senior Mentoring\n",
      "inviting students2024 to Senior Mentoring\n",
      "inviting ec to EC Meeting\n",
      "inviting wct-instructors to Writing and Critical Thinking\n",
      "inviting students2026 to Writing and Critical Thinking\n",
      "inviting math-instructors to Math Matters\n",
      "inviting students2026 to Math Matters\n",
      "inviting testprep-instructors to Test Prep\n",
      "inviting students2025 to Test Prep\n",
      "inviting senior-enrichment-instructors to Senior Enrichment\n",
      "inviting students2024 to Senior Enrichment\n",
      "inviting 2026mentors to Sophomore Mentoring\n",
      "inviting students2026 to Sophomore Mentoring\n",
      "inviting 2025mentors to Junior Mentoring\n",
      "inviting students2025 to Junior Mentoring\n",
      "inviting 2024mentors to Senior Mentoring\n",
      "inviting students2024 to Senior Mentoring\n",
      "inviting wct-instructors to Writing and Critical Thinking\n",
      "inviting students2026 to Writing and Critical Thinking\n",
      "inviting math-instructors to Math Matters\n",
      "inviting students2026 to Math Matters\n",
      "inviting testprep-instructors to Test Prep\n",
      "inviting students2025 to Test Prep\n",
      "inviting senior-enrichment-instructors to Senior Enrichment\n",
      "inviting students2024 to Senior Enrichment\n",
      "inviting 2026mentors to Sophomore Mentoring\n",
      "inviting students2026 to Sophomore Mentoring\n",
      "inviting 2025mentors to Junior Mentoring\n",
      "inviting students2025 to Junior Mentoring\n",
      "inviting 2024mentors to Senior Mentoring\n",
      "inviting students2024 to Senior Mentoring\n",
      "inviting wct-instructors to Writing and Critical Thinking\n",
      "inviting students2026 to Writing and Critical Thinking\n",
      "inviting math-instructors to Math Matters\n",
      "inviting students2026 to Math Matters\n",
      "inviting testprep-instructors to Test Prep\n",
      "inviting students2025 to Test Prep\n",
      "inviting senior-enrichment-instructors to Senior Enrichment\n",
      "inviting students2024 to Senior Enrichment\n",
      "inviting 2026mentors to Sophomore Mentoring\n",
      "inviting students2026 to Sophomore Mentoring\n",
      "inviting 2025mentors to Junior Mentoring\n",
      "inviting students2025 to Junior Mentoring\n",
      "inviting 2024mentors to Senior Mentoring\n",
      "inviting students2024 to Senior Mentoring\n",
      "inviting wct-instructors to Writing and Critical Thinking\n",
      "inviting students2026 to Writing and Critical Thinking\n",
      "inviting math-instructors to Math Matters\n",
      "inviting students2026 to Math Matters\n",
      "inviting testprep-instructors to Test Prep\n",
      "inviting students2025 to Test Prep\n",
      "inviting senior-enrichment-instructors to Senior Enrichment\n",
      "inviting students2024 to Senior Enrichment\n",
      "inviting 2026mentors to Sophomore Mentoring\n",
      "inviting students2026 to Sophomore Mentoring\n",
      "inviting 2025mentors to Junior Mentoring\n",
      "inviting students2025 to Junior Mentoring\n",
      "inviting 2024mentors to Senior Mentoring\n",
      "inviting students2024 to Senior Mentoring\n",
      "inviting ec to EC Meeting\n",
      "inviting wct-instructors to Writing and Critical Thinking\n",
      "inviting students2026 to Writing and Critical Thinking\n",
      "inviting math-instructors to Math Matters\n",
      "inviting students2026 to Math Matters\n",
      "inviting testprep-instructors to Test Prep\n",
      "inviting students2025 to Test Prep\n",
      "inviting senior-enrichment-instructors to Senior Enrichment\n",
      "inviting students2024 to Senior Enrichment\n",
      "inviting 2026mentors to Sophomore Mentoring\n",
      "inviting students2026 to Sophomore Mentoring\n",
      "inviting 2025mentors to Junior Mentoring\n",
      "inviting students2025 to Junior Mentoring\n",
      "inviting 2024mentors to Senior Mentoring\n",
      "inviting students2024 to Senior Mentoring\n",
      "inviting active to Graduation\n",
      "inviting ec to EC EOY Retreat\n"
     ]
    },
    {
     "data": {
      "application/javascript": [
       "\n",
       "            setTimeout(function() {\n",
       "                var nbb_cell_id = 37;\n",
       "                var nbb_unformatted_code = \"for k,row in df.iterrows():\\n    emails=map(lambda x: x.replace(' ','') ,row['Share with group'].split(','))\\n    event = eventservice.get(calendarId=calendarID, eventId=row.calendarEventID).execute()\\n    attendees=event.get('attendees',[])\\n    for email in emails:\\n        try:\\n            invite=next(a for a in attendees if a['email']==email + \\\"@mindsmatterseattle.org\\\")\\n        except StopIteration:\\n            print(f'inviting {email} to {event[\\\"summary\\\"]}')\\n            invite = {\\n                'email': f'{email}@mindsmatterseattle.org'\\n            }\\n            attendees.append(invite)\\n\\n    event['attendees'] =  attendees \\n    eventservice.update(calendarId=calendarID, eventId=row.calendarEventID, body=event).execute()\\n   \";\n",
       "                var nbb_formatted_code = \"for k, row in df.iterrows():\\n    emails = map(lambda x: x.replace(\\\" \\\", \\\"\\\"), row[\\\"Share with group\\\"].split(\\\",\\\"))\\n    event = eventservice.get(\\n        calendarId=calendarID, eventId=row.calendarEventID\\n    ).execute()\\n    attendees = event.get(\\\"attendees\\\", [])\\n    for email in emails:\\n        try:\\n            invite = next(\\n                a for a in attendees if a[\\\"email\\\"] == email + \\\"@mindsmatterseattle.org\\\"\\n            )\\n        except StopIteration:\\n            print(f'inviting {email} to {event[\\\"summary\\\"]}')\\n            invite = {\\\"email\\\": f\\\"{email}@mindsmatterseattle.org\\\"}\\n            attendees.append(invite)\\n\\n    event[\\\"attendees\\\"] = attendees\\n    eventservice.update(\\n        calendarId=calendarID, eventId=row.calendarEventID, body=event\\n    ).execute()\";\n",
       "                var nbb_cells = Jupyter.notebook.get_cells();\n",
       "                for (var i = 0; i < nbb_cells.length; ++i) {\n",
       "                    if (nbb_cells[i].input_prompt_number == nbb_cell_id) {\n",
       "                        if (nbb_cells[i].get_text() == nbb_unformatted_code) {\n",
       "                             nbb_cells[i].set_text(nbb_formatted_code);\n",
       "                        }\n",
       "                        break;\n",
       "                    }\n",
       "                }\n",
       "            }, 500);\n",
       "            "
      ],
      "text/plain": [
       "<IPython.core.display.Javascript object>"
      ]
     },
     "metadata": {},
     "output_type": "display_data"
    }
   ],
   "source": [
    "for k,row in df.iterrows():\n",
    "    emails=map(lambda x: x.replace(' ','') ,row['Share with group'].split(','))\n",
    "    event = eventservice.get(calendarId=calendarID, eventId=row.calendarEventID).execute()\n",
    "    attendees=event.get('attendees',[])\n",
    "    for email in emails:\n",
    "        try:\n",
    "            invite=next(a for a in attendees if a['email']==email + \"@mindsmatterseattle.org\")\n",
    "        except StopIteration:\n",
    "            print(f'inviting {email} to {event[\"summary\"]}')\n",
    "            invite = {\n",
    "                'email': f'{email}@mindsmatterseattle.org'\n",
    "            }\n",
    "            attendees.append(invite)\n",
    "\n",
    "    event['attendees'] =  attendees \n",
    "    eventservice.update(calendarId=calendarID, eventId=row.calendarEventID, body=event).execute()\n",
    "   "
   ]
  },
  {
   "cell_type": "code",
   "execution_count": 38,
   "metadata": {},
   "outputs": [
    {
     "data": {
      "application/javascript": [
       "\n",
       "            setTimeout(function() {\n",
       "                var nbb_cell_id = 38;\n",
       "                var nbb_unformatted_code = \"df.to_csv('2023-2024_calendar_events.csv', index=False)\";\n",
       "                var nbb_formatted_code = \"df.to_csv(\\\"2023-2024_calendar_events.csv\\\", index=False)\";\n",
       "                var nbb_cells = Jupyter.notebook.get_cells();\n",
       "                for (var i = 0; i < nbb_cells.length; ++i) {\n",
       "                    if (nbb_cells[i].input_prompt_number == nbb_cell_id) {\n",
       "                        if (nbb_cells[i].get_text() == nbb_unformatted_code) {\n",
       "                             nbb_cells[i].set_text(nbb_formatted_code);\n",
       "                        }\n",
       "                        break;\n",
       "                    }\n",
       "                }\n",
       "            }, 500);\n",
       "            "
      ],
      "text/plain": [
       "<IPython.core.display.Javascript object>"
      ]
     },
     "metadata": {},
     "output_type": "display_data"
    }
   ],
   "source": [
    "df.to_csv('2023-2024_calendar_events.csv', index=False)"
   ]
  },
  {
   "cell_type": "code",
   "execution_count": 39,
   "metadata": {},
   "outputs": [
    {
     "data": {
      "text/html": [
       "<div>\n",
       "<style scoped>\n",
       "    .dataframe tbody tr th:only-of-type {\n",
       "        vertical-align: middle;\n",
       "    }\n",
       "\n",
       "    .dataframe tbody tr th {\n",
       "        vertical-align: top;\n",
       "    }\n",
       "\n",
       "    .dataframe thead th {\n",
       "        text-align: right;\n",
       "    }\n",
       "</style>\n",
       "<table border=\"1\" class=\"dataframe\">\n",
       "  <thead>\n",
       "    <tr style=\"text-align: right;\">\n",
       "      <th></th>\n",
       "      <th>Date</th>\n",
       "      <th>Time</th>\n",
       "      <th>Calendar Assignment</th>\n",
       "      <th>Share with group</th>\n",
       "      <th>Event Title</th>\n",
       "      <th>Color</th>\n",
       "      <th>start</th>\n",
       "      <th>end</th>\n",
       "      <th>calendarEventID</th>\n",
       "    </tr>\n",
       "  </thead>\n",
       "  <tbody>\n",
       "    <tr>\n",
       "      <th>0</th>\n",
       "      <td>08/19/2023</td>\n",
       "      <td>11 am - 1 pm</td>\n",
       "      <td>new students</td>\n",
       "      <td>students2026</td>\n",
       "      <td>New Student Orientation</td>\n",
       "      <td>1</td>\n",
       "      <td>11 am</td>\n",
       "      <td>1 pm</td>\n",
       "      <td>p20kvodiu13fp9opogjctd5eds</td>\n",
       "    </tr>\n",
       "    <tr>\n",
       "      <th>1</th>\n",
       "      <td>08/26/2023</td>\n",
       "      <td>1 pm - 3:30 pm</td>\n",
       "      <td>volunteers</td>\n",
       "      <td>volunteers</td>\n",
       "      <td>Volunteer Orientation</td>\n",
       "      <td>1</td>\n",
       "      <td>1 pm</td>\n",
       "      <td>3:30 pm</td>\n",
       "      <td>qa5bogl8i12og8c52mjp890si8</td>\n",
       "    </tr>\n",
       "    <tr>\n",
       "      <th>2</th>\n",
       "      <td>09/09/2023</td>\n",
       "      <td>10 am - 2 pm</td>\n",
       "      <td>ec</td>\n",
       "      <td>ec</td>\n",
       "      <td>Kick-off</td>\n",
       "      <td>1</td>\n",
       "      <td>10 am</td>\n",
       "      <td>2 pm</td>\n",
       "      <td>b33uhacdr8glocr344f1egge3s</td>\n",
       "    </tr>\n",
       "    <tr>\n",
       "      <th>3</th>\n",
       "      <td>09/09/2023</td>\n",
       "      <td>10 am - 2 pm</td>\n",
       "      <td>WCT</td>\n",
       "      <td>wct-instructors</td>\n",
       "      <td>Kick-off</td>\n",
       "      <td>1</td>\n",
       "      <td>10 am</td>\n",
       "      <td>2 pm</td>\n",
       "      <td>f998sjl6ghr9muqj4fjrddqo54</td>\n",
       "    </tr>\n",
       "    <tr>\n",
       "      <th>4</th>\n",
       "      <td>09/09/2023</td>\n",
       "      <td>10 am - 2 pm</td>\n",
       "      <td>Math Matters</td>\n",
       "      <td>math-instructors</td>\n",
       "      <td>Kick-off</td>\n",
       "      <td>1</td>\n",
       "      <td>10 am</td>\n",
       "      <td>2 pm</td>\n",
       "      <td>ca6q7ju0qm13o28tntev47edao</td>\n",
       "    </tr>\n",
       "  </tbody>\n",
       "</table>\n",
       "</div>"
      ],
      "text/plain": [
       "         Date            Time Calendar Assignment  Share with group  \\\n",
       "0  08/19/2023    11 am - 1 pm        new students      students2026   \n",
       "1  08/26/2023  1 pm - 3:30 pm          volunteers        volunteers   \n",
       "2  09/09/2023    10 am - 2 pm                  ec                ec   \n",
       "3  09/09/2023    10 am - 2 pm                 WCT   wct-instructors   \n",
       "4  09/09/2023    10 am - 2 pm        Math Matters  math-instructors   \n",
       "\n",
       "               Event Title Color  start      end             calendarEventID  \n",
       "0  New Student Orientation     1  11 am     1 pm  p20kvodiu13fp9opogjctd5eds  \n",
       "1    Volunteer Orientation     1   1 pm  3:30 pm  qa5bogl8i12og8c52mjp890si8  \n",
       "2                 Kick-off     1  10 am     2 pm  b33uhacdr8glocr344f1egge3s  \n",
       "3                 Kick-off     1  10 am     2 pm  f998sjl6ghr9muqj4fjrddqo54  \n",
       "4                 Kick-off     1  10 am     2 pm  ca6q7ju0qm13o28tntev47edao  "
      ]
     },
     "execution_count": 39,
     "metadata": {},
     "output_type": "execute_result"
    },
    {
     "data": {
      "application/javascript": [
       "\n",
       "            setTimeout(function() {\n",
       "                var nbb_cell_id = 39;\n",
       "                var nbb_unformatted_code = \"df.head()\";\n",
       "                var nbb_formatted_code = \"df.head()\";\n",
       "                var nbb_cells = Jupyter.notebook.get_cells();\n",
       "                for (var i = 0; i < nbb_cells.length; ++i) {\n",
       "                    if (nbb_cells[i].input_prompt_number == nbb_cell_id) {\n",
       "                        if (nbb_cells[i].get_text() == nbb_unformatted_code) {\n",
       "                             nbb_cells[i].set_text(nbb_formatted_code);\n",
       "                        }\n",
       "                        break;\n",
       "                    }\n",
       "                }\n",
       "            }, 500);\n",
       "            "
      ],
      "text/plain": [
       "<IPython.core.display.Javascript object>"
      ]
     },
     "metadata": {},
     "output_type": "display_data"
    }
   ],
   "source": [
    "df.head()"
   ]
  },
  {
   "cell_type": "code",
   "execution_count": null,
   "metadata": {},
   "outputs": [],
   "source": []
  }
 ],
 "metadata": {
  "kernelspec": {
   "display_name": "Python 3 (ipykernel)",
   "language": "python",
   "name": "python3"
  },
  "language_info": {
   "codemirror_mode": {
    "name": "ipython",
    "version": 3
   },
   "file_extension": ".py",
   "mimetype": "text/x-python",
   "name": "python",
   "nbconvert_exporter": "python",
   "pygments_lexer": "ipython3",
   "version": "3.10.0"
  }
 },
 "nbformat": 4,
 "nbformat_minor": 4
}
