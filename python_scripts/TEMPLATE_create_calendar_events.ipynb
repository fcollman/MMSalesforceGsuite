{
 "cells": [
  {
   "cell_type": "markdown",
   "metadata": {},
   "source": [
    "# Create Minds Matter Calendar events \n",
    "\n",
    "This notebook will read a computer-readable google sheet of calendar events and programmatically create each event in the Google calendar of the Minds Matter Admin account. It will also invite the relevant groups to each event. \n",
    "\n",
    "**Warning: You must complete the pre-work in the [How to run the calendar script](https://docs.google.com/document/d/10Kf_lHase22wk-F24BV5QlQ2uinig5b5E7TwfCtG1wI/edit?usp=sharing) google doc before you can run this notebook!!**\n",
    "\n",
    "If you've completed the pre-work, proceed to filling in the noteobook inputs and running the cells:"
   ]
  },
  {
   "cell_type": "markdown",
   "metadata": {},
   "source": [
    "### Step 1: Fill in manual inputs"
   ]
  },
  {
   "cell_type": "code",
   "execution_count": null,
   "metadata": {},
   "outputs": [],
   "source": [
    "## FILL IN MANUAL INPUTS ##\n",
    "\n",
    "# copy & paste the Spreadsheet ID from the pre-work steps here\n",
    "SPREADSHEET_ID = \"1jy2kZF4rHHUcGEzYcZfA6kukUdqaSj7FWzKIoyoapcM\""
   ]
  },
  {
   "cell_type": "code",
   "execution_count": null,
   "metadata": {},
   "outputs": [],
   "source": [
    "from __future__ import print_function\n",
    "import datetime\n",
    "from googleapiclient.discovery import build\n",
    "from google_auth_oauthlib.flow import InstalledAppFlow\n",
    "from google.auth.transport.requests import Request\n",
    "import numpy as np\n",
    "import os.path\n",
    "import pickle\n",
    "import time\n",
    "\n",
    "import pandas as pd\n",
    "\n",
    "from helper_functions import * "
   ]
  },
  {
   "cell_type": "code",
   "execution_count": null,
   "metadata": {},
   "outputs": [],
   "source": [
    "%load_ext nb_black"
   ]
  },
  {
   "cell_type": "code",
   "execution_count": null,
   "metadata": {},
   "outputs": [],
   "source": [
    "print(f\"This notebook was run on {datetime.datetime.today()}\")"
   ]
  },
  {
   "cell_type": "markdown",
   "metadata": {},
   "source": [
    "### Step 2: Authenticate your account\n",
    "\n",
    "Running the following cells will result in a pop-up window allowing you to authenticate and store the credentials in a `token.pickle` file. A \"warning\" may pop up telling you that Google hasn't verified this app. Click \"Advanced\" and then \"Go to Untitled Project.\" Select all of the items that you need to access and click \"Continue.\"\n",
    "\n",
    "Once you have finished authenticating, a `token.pickle` file will get dropped into your working directory."
   ]
  },
  {
   "cell_type": "code",
   "execution_count": null,
   "metadata": {},
   "outputs": [],
   "source": [
    "creds = read_credentials()"
   ]
  },
  {
   "cell_type": "code",
   "execution_count": null,
   "metadata": {},
   "outputs": [],
   "source": [
    "# build the calendar service\n",
    "service = build(\"calendar\", \"v3\", credentials=creds)"
   ]
  },
  {
   "cell_type": "markdown",
   "metadata": {},
   "source": [
    "Test that the authentication has worked by call the Calendar API and printing the next 10 events in the user's calendar. Note: You may not have any upcoming events, that is fine. If this cell runs successfully, the Google API is working as intended. "
   ]
  },
  {
   "cell_type": "code",
   "execution_count": null,
   "metadata": {},
   "outputs": [],
   "source": [
    "now = datetime.datetime.utcnow().isoformat() + \"Z\" # 'Z' indicates UTC time\n",
    "print('Getting the upcoming 10 events')\n",
    "events_result = service.events().list(calendarId=CALENDER_ID, timeMin=now,\n",
    "                                    maxResults=10, singleEvents=True,\n",
    "                                    orderBy='startTime').execute()\n",
    "events = events_result.get('items', [])\n",
    "\n",
    "if not events:\n",
    "    print('No upcoming events found.')\n",
    "for event in events:\n",
    "    start = event['start'].get('dateTime', event['start'].get('date'))\n",
    "    print(start, event['summary'])"
   ]
  },
  {
   "cell_type": "markdown",
   "metadata": {},
   "source": [
    "### 3. Read data from the Academic calendar--Computer readable Google sheet"
   ]
  },
  {
   "cell_type": "code",
   "execution_count": null,
   "metadata": {},
   "outputs": [],
   "source": [
    "df = read_google_sheet(SPREADSHEET_ID, creds=creds)\n",
    "print(f\"Loading {df.shape[0]} rows.\")"
   ]
  },
  {
   "cell_type": "code",
   "execution_count": null,
   "metadata": {},
   "outputs": [],
   "source": [
    "# sanity check\n",
    "df.head()"
   ]
  },
  {
   "cell_type": "markdown",
   "metadata": {},
   "source": [
    "### 4. Create events\n",
    "\n",
    "Note this will take a few minutes!"
   ]
  },
  {
   "cell_type": "code",
   "execution_count": null,
   "metadata": {},
   "outputs": [],
   "source": [
    "eventservice=service.events()"
   ]
  },
  {
   "cell_type": "code",
   "execution_count": null,
   "metadata": {},
   "outputs": [],
   "source": [
    "# create events\n",
    "for k,row in df.iterrows():\n",
    "    body={\n",
    "        \"description\": row['Event Title'],\n",
    "        \"summary\":  row['Event Title'],\n",
    "        \"start\":{\n",
    "            \"dateTime\": row.starttime.isoformat(),\n",
    "            \"timeZone\": \"America/Los_Angeles\"\n",
    "        },\n",
    "        \"end\":{\n",
    "            \"dateTime\": row.endtime.isoformat(),\n",
    "            \"timeZone\": \"America/Los_Angeles\"\n",
    "        },\n",
    "        \"colorId\": f\"{row.Color}\",\n",
    "        \"guestsCanInviteOthers\": False\n",
    "\n",
    "    }\n",
    "    \n",
    "    if row.calendarEventID:\n",
    "        pass\n",
    "    else:\n",
    "        r=eventservice.insert(calendarId=calendarID,\n",
    "                             body=body)\n",
    "        response=r.execute()\n",
    "        df.loc[k, 'calendarEventID']=response[\"id\"]\n",
    "        time.sleep(.2)"
   ]
  },
  {
   "cell_type": "markdown",
   "metadata": {},
   "source": [
    "Spot check that events were created by going into the Admin Google Calendar and checking a few to see if they show up."
   ]
  },
  {
   "cell_type": "markdown",
   "metadata": {},
   "source": [
    "### 5. Invite user groups to events\n",
    "\n",
    "Note this will take a few minutes!"
   ]
  },
  {
   "cell_type": "code",
   "execution_count": null,
   "metadata": {},
   "outputs": [],
   "source": [
    "for k,row in df.iterrows():\n",
    "    emails=map(lambda x: x.replace(' ','') ,row['Share with group'].split(','))\n",
    "    event = eventservice.get(calendarId=calendarID, eventId=row.calendarEventID).execute()\n",
    "    attendees=event.get('attendees',[])\n",
    "    for email in emails:\n",
    "        try:\n",
    "            invite=next(a for a in attendees if a['email']==email + \"@mindsmatterseattle.org\")\n",
    "        except StopIteration:\n",
    "            print(f'inviting {email} to {event[\"summary\"]}')\n",
    "            invite = {\n",
    "                'email': f'{email}@mindsmatterseattle.org'\n",
    "            }\n",
    "            attendees.append(invite)\n",
    "\n",
    "    event['attendees'] =  attendees \n",
    "    eventservice.update(calendarId=calendarID, eventId=row.calendarEventID, body=event).execute()"
   ]
  },
  {
   "cell_type": "markdown",
   "metadata": {},
   "source": [
    "### 6 (Optional): Save output for historical records"
   ]
  },
  {
   "cell_type": "code",
   "execution_count": null,
   "metadata": {},
   "outputs": [],
   "source": [
    "df.to_csv(\"<ENTER_DESIRED_NAME>\", index=False)"
   ]
  },
  {
   "cell_type": "code",
   "execution_count": null,
   "metadata": {},
   "outputs": [],
   "source": []
  }
 ],
 "metadata": {
  "kernelspec": {
   "display_name": "Python 3 (ipykernel)",
   "language": "python",
   "name": "python3"
  },
  "language_info": {
   "codemirror_mode": {
    "name": "ipython",
    "version": 3
   },
   "file_extension": ".py",
   "mimetype": "text/x-python",
   "name": "python",
   "nbconvert_exporter": "python",
   "pygments_lexer": "ipython3",
   "version": "3.10.0"
  }
 },
 "nbformat": 4,
 "nbformat_minor": 4
}
